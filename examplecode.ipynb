{
 "cells": [
  {
   "cell_type": "markdown",
   "metadata": {},
   "source": [
    "# This notebook accompanies Villar et al. (2019): 1905.07422\n",
    "\n",
    "It shows an example workflow used in the paper, based specifically on the pipeline which worked best for the PS1-MDS dataset of spectroscopically-classified SNe. \n",
    "\n",
    "This notebook can also be used as a simple (yet incomplete) guide to classifying supernova light curves"
   ]
  },
  {
   "cell_type": "code",
   "execution_count": 1,
   "metadata": {},
   "outputs": [],
   "source": [
    "#  Import various modules\n",
    "import numpy as np\n",
    "import matplotlib.pyplot as plt\n",
    "from utils import makeTransients,makeTransientLC,plot_confusion_matrix\n",
    "\n",
    "#  Also ignore warnings to be pretty-looking :)\n",
    "import warnings\n",
    "warnings.filterwarnings('ignore')\n"
   ]
  },
  {
   "cell_type": "markdown",
   "metadata": {},
   "source": [
    "## Creating a Synthetic Dataset\n",
    "\n",
    "First, we will generate a synthetic dataset. For this example, we'll generate two classes of SNe: \"Short\" and \"Long\". In the paper, there are five classes of SNe considers: Ia, Ibc, II, IIn, and SLSNe.\n",
    "\n",
    "We will purposefully make our dataset *unbalanced*. There will be many more Long SNe than Short SNe. In reality, we typically find that Type Ia SNe are the majority class."
   ]
  },
  {
   "cell_type": "code",
   "execution_count": 2,
   "metadata": {},
   "outputs": [
    {
     "data": {
      "image/png": "[encoded data removed]",
      "text/plain": [
       "<Figure size 432x288 with 1 Axes>"
      ]
     },
     "metadata": {},
     "output_type": "display_data"
    }
   ],
   "source": [
    "#  Define the total number of transients, and what fraction are \"short\"\n",
    "total_number_of_transients = 500\n",
    "fraction_short = 0.2\n",
    "\n",
    "short_sne = np.asarray(makeTransients(int(total_number_of_transients * fraction_short),\n",
    "                                    t1_min=5,t1_max=10,trise_min=3,trise_max=4,\n",
    "                                    tfall_min=5,tfall_max=20))\n",
    "long_sne = np.asarray(makeTransients(int(total_number_of_transients * (1. - fraction_short)),\n",
    "                                    t1_min=20,t1_max=30,trise_min=6,trise_max=10,\n",
    "                                    tfall_min=30,tfall_max=70))\n",
    "\n",
    "#  Make a plot of two example light curves\n",
    "time = np.linspace(0,50,100)\n",
    "plt.plot(time,makeTransientLC(short_sne.T[0])(time),color='blue')\n",
    "plt.plot(time,makeTransientLC(long_sne.T[0])(time),color='red')\n",
    "plt.xlabel('Time')\n",
    "plt.ylabel('Flux')\n",
    "plt.title('Example of short and long transients')\n",
    "\n",
    "#  Generate the final data set by randomly shuffling our SNe and providing labels\n",
    "#  In this example, we want to extract PCA components from the light curves as\n",
    "#  features. \n",
    "#  In our paper, we extracted PCA components from the fitted light curves.\n",
    "inds = np.random.permutation(np.arange(total_number_of_transients))\n",
    "params = np.hstack((short_sne,long_sne)).T[inds]\n",
    "X = np.zeros((total_number_of_transients,len(time)))\n",
    "for i,param in enumerate(params):\n",
    "    X[i,:] = makeTransientLC(param)(time)\n",
    "y = np.asarray([0]*len(short_sne.T)+[1]*len(long_sne.T))[inds]\n"
   ]
  },
  {
   "cell_type": "markdown",
   "metadata": {},
   "source": [
    "## Extract Features\n",
    "We will extract PCA features from a *whitened* (i.e., normalized) dataset. \n",
    "\n",
    "In Villar et al. , we explore four feature sets. Please see the paper for more details. The features are roughly as follows:\n",
    "\n",
    "* **Model Parameters**: We use the analytical model parameters directly.\n",
    "* **Hand-Selected Features**: We extract \"hand-selected\" features, such as peak and duration.\n",
    "* **Principal Component Analysis**: We use PCA on the fitted model light curves. *This is the feature set we explore in this example*.\n",
    "* **Light Curves**: We downsample the light curves and use them as features.\n",
    "\n",
    "We will purposefully make our dataset unbalanced. There will be many more Long SNe than Short SNe. In reality, we typically find that Type Ia SNe are the majority class."
   ]
  },
  {
   "cell_type": "code",
   "execution_count": 3,
   "metadata": {},
   "outputs": [],
   "source": [
    "from sklearn import decomposition\n",
    "\n",
    "#  Whiten the data (make it have mean 0 and st. dev. 1)\n",
    "#  Note that sklearn has a whiten function, which performs these steps!\n",
    "means = np.mean(X,axis=0)\n",
    "stds = np.std(X,axis=0)\n",
    "stds[stds==0] = 1.0\n",
    "X_whiten = (X - means)/stds\n",
    "#  Do PCA decomposition on the training data, and use those are features\n",
    "pca = decomposition.PCA(n_components=5)\n",
    "pca.fit(X_whiten)\n",
    "X = pca.transform(X_whiten)"
   ]
  },
  {
   "cell_type": "markdown",
   "metadata": {},
   "source": [
    "## Resample the Data & Train a Random Forest Classifier\n",
    "\n",
    "We resample our data using the SMOTE algorithm combined with *leave-one-out cross-validation*. In this step, we loop through our dataset, removing just 1 supernova with each iteration. We use the remaining supernovae as our training set.\n",
    "\n",
    "We augment the training set using SMOTE, forcing the two classes to be balanced. \n",
    "\n",
    "We then train a *random forest classifier* (RF classifier). Note that the hyperparameters should be optimized for a given training set.\n",
    "\n",
    "Finally, we apply the results of our RF classifier on the \"test set\", or the SN which we left out of our sample for the current iteration. We then repeat this process for the next SN in our dataset. \n",
    "\n",
    "In this way, we build up a predicted classification label (\"Short\" or \"Long\") for each of the SNe."
   ]
  },
  {
   "cell_type": "code",
   "execution_count": 4,
   "metadata": {},
   "outputs": [],
   "source": [
    "#  Resample the dataset & fit\n",
    "from imblearn.pipeline import make_pipeline\n",
    "from imblearn.over_sampling import SMOTE\n",
    "from sklearn.model_selection import LeaveOneOut,train_test_split\n",
    "from sklearn.ensemble import RandomForestClassifier\n",
    "loo = LeaveOneOut()\n",
    "\n",
    "y_pred = np.zeros(len(y))\n",
    "\n",
    "for train_index, test_index in loo.split(X):\n",
    "    X_train, X_test = X[train_index], X[test_index]\n",
    "    y_train, y_test = y[train_index], y[test_index]\n",
    "\n",
    "    sampler = SMOTE(random_state=0)\n",
    "    X_res, y_res = sampler.fit_resample(X_train, y_train)\n",
    "    Xr_train, Xr_test, yr_train, yr_test = \\\n",
    "        train_test_split(X_res, y_res, test_size=0.33, random_state=42)\n",
    "    clf = RandomForestClassifier(n_estimators=10, max_depth=None,\n",
    "                    random_state=42, class_weight='balanced', criterion='entropy',\n",
    "                                 max_features=4,verbose=False)\n",
    "    clf.fit(Xr_train,yr_train)\n",
    "    y_pred[test_index] = clf.predict(X_test)\n"
   ]
  },
  {
   "cell_type": "markdown",
   "metadata": {},
   "source": [
    "## Creating the Confusion Matrix\n",
    "\n",
    "Finally, we can visually our trained model's accuracy using a *confusion matrix*. In each square of this matrix, we compare the fraction of objects which are correctly vs incorrectly classified. Each row of the matrix will add to 1. The diagonal of this matrix gives a quick guideline to the overall performance of the classification pipeline."
   ]
  },
  {
   "cell_type": "code",
   "execution_count": 5,
   "metadata": {},
   "outputs": [
    {
     "name": "stdout",
     "output_type": "stream",
     "text": [
      "Normalized confusion matrix\n"
     ]
    },
    {
     "data": {
      "image/png": "[encoded data removed]",
      "text/plain": [
       "<Figure size 432x288 with 1 Axes>"
      ]
     },
     "metadata": {},
     "output_type": "display_data"
    }
   ],
   "source": [
    "from sklearn.metrics import confusion_matrix\n",
    "\n",
    "#  Before we plot, we will make labels for both classes\n",
    "cat_names = ['Short','Long']\n",
    "\n",
    "cnf_matrix = confusion_matrix(y,y_pred)\n",
    "plot_confusion_matrix(cnf_matrix, classes=cat_names, normalize=True)"
   ]
  },
  {
   "cell_type": "code",
   "execution_count": null,
   "metadata": {},
   "outputs": [],
   "source": []
  }
 ],
 "metadata": {
  "kernelspec": {
   "display_name": "Python 3",
   "language": "python",
   "name": "python3"
  },
  "language_info": {
   "codemirror_mode": {
    "name": "ipython",
    "version": 3
   },
   "file_extension": ".py",
   "mimetype": "text/x-python",
   "name": "python",
   "nbconvert_exporter": "python",
   "pygments_lexer": "ipython3",
   "version": "3.6.7"
  }
 },
 "nbformat": 4,
 "nbformat_minor": 2
}
